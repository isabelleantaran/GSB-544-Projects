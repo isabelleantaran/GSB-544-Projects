{
 "cells": [
  {
   "cell_type": "raw",
   "id": "47ed5857",
   "metadata": {
    "vscode": {
     "languageId": "raw"
    }
   },
   "source": [
    "--- \n",
    "title: Lab 3\n",
    "author: Isabelle Antaran\n",
    "format:\n",
    "    html:\n",
    "        toc: true\n",
    "        code-fold: true\n",
    "        embed-resources: true\n",
    "echo: true\n",
    "theme: sandstone\n",
    "---\n"
   ]
  },
  {
   "cell_type": "markdown",
   "id": "9628eb12",
   "metadata": {},
   "source": [
    "Github link: https://github.com/isabelleantaran/GSB-544-Projects/tree/main/lab"
   ]
  },
  {
   "cell_type": "code",
   "execution_count": 415,
   "id": "25d4170d",
   "metadata": {},
   "outputs": [],
   "source": [
    "import pandas as pd\n",
    "xmas = pd.read_csv(\"https://www.dropbox.com/scl/fi/qxaslqqp5p08i1650rpc4/xmas.csv?rlkey=erdxi7jbh7pqf9fh4lv4cayp5&dl=1\")"
   ]
  },
  {
   "cell_type": "code",
   "execution_count": 416,
   "id": "a2092a68",
   "metadata": {},
   "outputs": [],
   "source": [
    "import numpy as np\n",
    "from sys import exit\n",
    "import plotnine as p9\n",
    "import math"
   ]
  },
  {
   "cell_type": "code",
   "execution_count": 417,
   "id": "6628111a",
   "metadata": {},
   "outputs": [
    {
     "name": "stdout",
     "output_type": "stream",
     "text": [
      "Index(['Day', 'Day.in.Words', 'Gift.Item', 'Verb', 'Adjective', 'Location'], dtype='object')\n"
     ]
    }
   ],
   "source": [
    "print(xmas.columns)"
   ]
  },
  {
   "cell_type": "code",
   "execution_count": 418,
   "id": "33fb8cb1",
   "metadata": {},
   "outputs": [
    {
     "name": "stdout",
     "output_type": "stream",
     "text": [
      "    Day Day.in.Words  Gift.Item        Verb Adjective        Location\n",
      "0     1        first  partridge         NaN       NaN  in a pear tree\n",
      "1     2       second       dove         NaN    turtle             NaN\n",
      "2     3        third        hen         NaN    french             NaN\n",
      "3     4       fourth       bird         NaN   calling             NaN\n",
      "4     5        fifth       ring         NaN    golden             NaN\n",
      "5     6        sixth      goose    a-laying       NaN             NaN\n",
      "6     7      seventh       swan  a-swimming       NaN             NaN\n",
      "7     8       eighth       maid   a-milking       NaN             NaN\n",
      "8     9        ninth       lady     dancing       NaN             NaN\n",
      "9    10        tenth       lord   a-leaping       NaN             NaN\n",
      "10   11     eleventh      piper      piping       NaN             NaN\n",
      "11   12      twelfth    drummer    drumming       NaN             NaN\n"
     ]
    }
   ],
   "source": [
    "print(xmas)"
   ]
  },
  {
   "cell_type": "markdown",
   "id": "8e1c0a88",
   "metadata": {},
   "source": [
    "## Function 1: pluralize_gift()"
   ]
  },
  {
   "cell_type": "code",
   "execution_count": 419,
   "id": "6a3811a8",
   "metadata": {},
   "outputs": [
    {
     "name": "stdout",
     "output_type": "stream",
     "text": [
      "0     partridge\n",
      "1          dove\n",
      "2           hen\n",
      "3          bird\n",
      "4          ring\n",
      "5         goose\n",
      "6          swan\n",
      "7          maid\n",
      "8          lady\n",
      "9          lord\n",
      "10        piper\n",
      "11      drummer\n",
      "Name: Gift.Item, dtype: object\n"
     ]
    }
   ],
   "source": [
    "print(xmas['Gift.Item'])"
   ]
  },
  {
   "cell_type": "code",
   "execution_count": 420,
   "id": "449837a9",
   "metadata": {},
   "outputs": [],
   "source": [
    "#| code-fold: false\n",
    "def pluralize_gift(gift = None): \n",
    "    \"\"\"\n",
    "    Returns plural of a noun\n",
    "\n",
    "    Parameters \n",
    "    ----------\n",
    "    gift: str \n",
    "        A noun\n",
    "        \n",
    "    Return \n",
    "    ----------\n",
    "    str\n",
    "        Plural version\n",
    "    \"\"\"\n",
    "    \n",
    "    if hasattr(gift, '__iter__') and not isinstance(gift, str): # Check if gift is iterable but not a string \n",
    "        # Handles the case where the function is called on a pandas Series\n",
    "        return type(gift)(pluralize_gift(g) for g in gift) #If gift is an iterable, call pluralize_gift() on each element g and return same type of collection, enabling vectorization\n",
    "\n",
    "    if not isinstance(gift, str): # Check if gift is not a string\n",
    "        exit(\"The input to pluralize_gift must be a string.\") # Exit the program with an error message if input is not a string\n",
    "    \n",
    "    if 'oo' in gift: \n",
    "        gift = gift.replace(\"oo\", \"ee\")\n",
    "    elif gift[-1] == \"y\":\n",
    "        gift= gift.replace(\"y\", \"ies\")\n",
    "    else:\n",
    "        gift = gift + \"s\"\n",
    "    \n",
    "    return gift\n"
   ]
  },
  {
   "cell_type": "code",
   "execution_count": 421,
   "id": "088ea5da",
   "metadata": {},
   "outputs": [
    {
     "name": "stdout",
     "output_type": "stream",
     "text": [
      "patridges\n",
      "geese\n",
      "ladies\n"
     ]
    }
   ],
   "source": [
    "# Unit Test\n",
    "\n",
    "print(pluralize_gift(\"patridge\"))\n",
    "print(pluralize_gift(\"goose\"))\n",
    "print(pluralize_gift(\"lady\"))"
   ]
  },
  {
   "cell_type": "code",
   "execution_count": 422,
   "id": "54a76f67",
   "metadata": {},
   "outputs": [
    {
     "data": {
      "text/plain": [
       "0     partridges\n",
       "1          doves\n",
       "2           hens\n",
       "3          birds\n",
       "4          rings\n",
       "5          geese\n",
       "6          swans\n",
       "7          maids\n",
       "8         ladies\n",
       "9          lords\n",
       "10        pipers\n",
       "11      drummers\n",
       "dtype: object"
      ]
     },
     "execution_count": null,
     "metadata": {},
     "output_type": "execute_result"
    }
   ],
   "source": [
    "pluralize_gift(xmas['Gift.Item'])"
   ]
  },
  {
   "cell_type": "markdown",
   "id": "956a5720",
   "metadata": {},
   "source": [
    "## Function 2: make_phrase()"
   ]
  },
  {
   "cell_type": "code",
   "execution_count": 423,
   "id": "ab098def",
   "metadata": {},
   "outputs": [
    {
     "data": {
      "text/plain": [
       "Day              int64\n",
       "Day.in.Words    object\n",
       "Gift.Item       object\n",
       "Verb            object\n",
       "Adjective       object\n",
       "Location        object\n",
       "dtype: object"
      ]
     },
     "execution_count": null,
     "metadata": {},
     "output_type": "execute_result"
    }
   ],
   "source": [
    "xmas.dtypes"
   ]
  },
  {
   "cell_type": "code",
   "execution_count": 424,
   "id": "2a916593",
   "metadata": {},
   "outputs": [],
   "source": [
    "#| code-fold: false\n",
    "\n",
    "# Create dictionary outside the function\n",
    "day_number_words = {\n",
    "    1: \"one\", 2: \"two\", 3: \"three\", 4: \"four\", \n",
    "    5: \"five\", 6: \"six\", 7: \"seven\", 8: \"eight\", \n",
    "    9: \"nine\", 10: \"ten\", 11: \"eleven\", 12: \"twelve\"\n",
    "}\n",
    "\n",
    "# Create the Num.Word column using .map()\n",
    "xmas[\"Num.Word\"] = xmas[\"Day\"].map(day_number_words)"
   ]
  },
  {
   "cell_type": "code",
   "execution_count": 425,
   "id": "f3a2fdd1",
   "metadata": {},
   "outputs": [],
   "source": [
    "def make_phrase(num, num_word, item, verb, adjective, location):\n",
    "    \"\"\"\n",
    "    Returns phrase of the parameters.\n",
    "    \n",
    "    Parameters\n",
    "    ----------\n",
    "    num : int\n",
    "        The day number \n",
    "    num_word : str\n",
    "        The number word (e.g., \"one\", \"two\", \"twelve\")\n",
    "    item : str\n",
    "        The gift item within the phrase\n",
    "    verb : str\n",
    "        The action of the gift\n",
    "    adjective : str\n",
    "        The description of the gift\n",
    "    location : str\n",
    "        The location of gift\n",
    "    \n",
    "    Returns\n",
    "    -------\n",
    "    str\n",
    "        The complete phrase for that day's gift\n",
    "    \"\"\"\n",
    "    \n",
    "    ## Step 1: Replace NAs with blank strings\n",
    "    verb = verb.fillna(\"\") if isinstance(verb, pd.Series) else (\"\" if pd.isna(verb) else str(verb))\n",
    "    adjective = adjective.fillna(\"\") if isinstance(adjective, pd.Series) else (\"\" if pd.isna(adjective) else str(adjective))\n",
    "    location = location.fillna(\"\") if isinstance(location, pd.Series) else (\"\" if pd.isna(location) else str(location))\n",
    "    \n",
    "    ## Step 2: If the day number is larger than 1, the gift items need pluralized!\n",
    "    if num > 1:\n",
    "        item_plural = pluralize_gift(item)\n",
    "    else:\n",
    "        item_plural = item\n",
    "    \n",
    "    ## Step 3: Figure out if a gift item starts with a vowel\n",
    "    starts_with_vowel = item_plural[0].lower() in 'aeiou'\n",
    "    \n",
    "    ## Step 4: For the first day, if the gift item starts with a vowel, replace the day with \"an\", else \"a\"\n",
    "    if num == 1:\n",
    "        if starts_with_vowel:\n",
    "            determiner = \"an\"\n",
    "        else:\n",
    "            determiner = \"a\"\n",
    "    else:\n",
    "        determiner = num_word\n",
    "    \n",
    "    ## Step 5: Put all of the pieces together into one string and return!\n",
    "    parts = [determiner, adjective, item_plural, verb, location]\n",
    "    # Filter out empty strings and join with spaces\n",
    "    phrase = ' '.join(part for part in parts if part)\n",
    "    \n",
    "    return phrase"
   ]
  },
  {
   "cell_type": "code",
   "execution_count": 426,
   "id": "3b254c68",
   "metadata": {},
   "outputs": [
    {
     "data": {
      "text/plain": [
       "0     a partridge in a pear tree\n",
       "1               two turtle doves\n",
       "2              three french hens\n",
       "3             four calling birds\n",
       "4              five golden rings\n",
       "5             six geese a-laying\n",
       "6         seven swans a-swimming\n",
       "7          eight maids a-milking\n",
       "8            nine ladies dancing\n",
       "9            ten lords a-leaping\n",
       "10          eleven pipers piping\n",
       "11      twelve drummers drumming\n",
       "dtype: object"
      ]
     },
     "execution_count": null,
     "metadata": {},
     "output_type": "execute_result"
    }
   ],
   "source": [
    "xmas.apply(lambda x: make_phrase(x['Day'], x['Num.Word'], x['Gift.Item'], x['Verb'], x['Adjective'], x['Location']), axis=1)"
   ]
  },
  {
   "cell_type": "code",
   "execution_count": 427,
   "id": "4fe4e3ff",
   "metadata": {},
   "outputs": [
    {
     "data": {
      "text/plain": [
       "'ten lords a-leaping'"
      ]
     },
     "execution_count": null,
     "metadata": {},
     "output_type": "execute_result"
    }
   ],
   "source": [
    "# Test\n",
    "make_phrase(num = 10,\n",
    "           num_word = \"ten\",\n",
    "           item = \"lord\",\n",
    "           verb = \"a-leaping\",\n",
    "           adjective = \"\",\n",
    "           location = \"\")"
   ]
  },
  {
   "cell_type": "code",
   "execution_count": 428,
   "id": "0605b13b",
   "metadata": {},
   "outputs": [
    {
     "data": {
      "text/plain": [
       "'twelve drummers drumming'"
      ]
     },
     "execution_count": null,
     "metadata": {},
     "output_type": "execute_result"
    }
   ],
   "source": [
    "# Test\n",
    "make_phrase(num = 12,\n",
    "           num_word = \"twelve\",\n",
    "           item = \"drummer\",\n",
    "           verb = \"drumming\",\n",
    "           adjective = \"\",\n",
    "           location = \"\")"
   ]
  },
  {
   "cell_type": "code",
   "execution_count": 429,
   "id": "2c2f6c8e",
   "metadata": {},
   "outputs": [],
   "source": [
    "# Use the function to make a new column of the `xmas` column called `Full.Phrase` containing the sentences for the new gift on that day.\n",
    "xmas['Full.Phrase'] = xmas.apply(lambda x: make_phrase(x['Day'], \n",
    "                                                        x['Num.Word'], \n",
    "                                                        x['Gift.Item'], \n",
    "                                                        x['Verb'], \n",
    "                                                        x['Adjective'], \n",
    "                                                        x['Location']), axis=1)"
   ]
  },
  {
   "cell_type": "code",
   "execution_count": 430,
   "id": "ff61f01f",
   "metadata": {},
   "outputs": [
    {
     "name": "stdout",
     "output_type": "stream",
     "text": [
      "0     a partridge in a pear tree\n",
      "1               two turtle doves\n",
      "2              three french hens\n",
      "3             four calling birds\n",
      "4              five golden rings\n",
      "5             six geese a-laying\n",
      "6         seven swans a-swimming\n",
      "7          eight maids a-milking\n",
      "8            nine ladies dancing\n",
      "9            ten lords a-leaping\n",
      "10          eleven pipers piping\n",
      "11      twelve drummers drumming\n",
      "Name: Full.Phrase, dtype: object\n"
     ]
    }
   ],
   "source": [
    "print(xmas[\"Full.Phrase\"])"
   ]
  },
  {
   "cell_type": "code",
   "execution_count": 431,
   "id": "eeef0ff5",
   "metadata": {},
   "outputs": [
    {
     "name": "stdout",
     "output_type": "stream",
     "text": [
      "Index(['Day', 'Day.in.Words', 'Gift.Item', 'Verb', 'Adjective', 'Location',\n",
      "       'Num.Word', 'Full.Phrase'],\n",
      "      dtype='object')\n"
     ]
    }
   ],
   "source": [
    "# Verifies if the column called `Full.Phrase` has been added\n",
    "print(xmas.columns) "
   ]
  },
  {
   "cell_type": "code",
   "execution_count": 432,
   "id": "dc822cf6",
   "metadata": {},
   "outputs": [
    {
     "name": "stdout",
     "output_type": "stream",
     "text": [
      "    Day Num.Word  Gift.Item                 Full.Phrase\n",
      "0     1      one  partridge  a partridge in a pear tree\n",
      "1     2      two       dove            two turtle doves\n",
      "2     3    three        hen           three french hens\n",
      "3     4     four       bird          four calling birds\n",
      "4     5     five       ring           five golden rings\n",
      "5     6      six      goose          six geese a-laying\n",
      "6     7    seven       swan      seven swans a-swimming\n",
      "7     8    eight       maid       eight maids a-milking\n",
      "8     9     nine       lady         nine ladies dancing\n",
      "9    10      ten       lord         ten lords a-leaping\n",
      "10   11   eleven      piper        eleven pipers piping\n",
      "11   12   twelve    drummer    twelve drummers drumming\n"
     ]
    }
   ],
   "source": [
    "# Ensures the `Full.Phrase` column accurately contains complete phrases for each day\n",
    "print(xmas[['Day', 'Num.Word', 'Gift.Item', 'Full.Phrase']])"
   ]
  },
  {
   "cell_type": "markdown",
   "id": "a9820772",
   "metadata": {},
   "source": [
    "## Function 3: sing_day()"
   ]
  },
  {
   "cell_type": "code",
   "execution_count": 433,
   "id": "d37a9e9b",
   "metadata": {},
   "outputs": [],
   "source": [
    "def sing_day(dataset, num, phrase_col):\n",
    "    \"\"\"\n",
    "    Returns the verse for a specific day of Christmas.\n",
    "    \n",
    "    Parameters\n",
    "    ----------\n",
    "    dataset : pandas.DataFrame\n",
    "        Table containing at least a \"Day\" column and phrase_col with gift phrases.\n",
    "        The data function that is applied to.\n",
    "    num : int\n",
    "        The day number \n",
    "    phrase_col : str\n",
    "        Column name that holds the phrase text \n",
    "    \n",
    "    Return\n",
    "    -------\n",
    "    str\n",
    "        Entire section of song for a specific day\n",
    "\n",
    "    \"\"\"\n",
    "    \n",
    "    # Dictionary to map numbers to ordinal words\n",
    "    num_word = {\n",
    "        1: \"first\", 2: \"second\", 3: \"third\", 4: \"fourth\", 5: \"fifth\", 6: \"sixth\",\n",
    "        7: \"seventh\", 8: \"eighth\", 9: \"ninth\", 10: \"tenth\", 11: \"eleventh\", 12: \"twelfth\"\n",
    "    }\n",
    "    \n",
    "    # Check that the phrase column is in the dataset\n",
    "    if phrase_col not in dataset.columns:\n",
    "        exit(f\"Column '{phrase_col}' not found in data.\")\n",
    "    \n",
    "    # Step 1: Setup the intro line\n",
    "    intro = \"On the \" + num_word[num] + \" day of Christmas, my true love gave to me:\"\n",
    "    \n",
    "    # Step 2: Sing the gift phrases\n",
    "    gifts = \"\"\n",
    "    for i in range(num, 0, -1):\n",
    "        gift = dataset.loc[dataset[\"Day\"] == i, phrase_col].values[0]\n",
    "        \n",
    "        if i == 1 and num != 1:\n",
    "            # Last line (day 1) when there are other gifts\n",
    "            # Add period to end, no comma before\n",
    "            gifts += gift + \".\"\n",
    "        elif i == 1:\n",
    "            # Only gift (day 1 song) - add period\n",
    "            gifts += gift + \".\"\n",
    "        elif i == 2 and num != 1:\n",
    "            # Second-to-last line - add \" and\" with no comma, then newline\n",
    "            gifts += gift + \" and\\n\"\n",
    "        else:\n",
    "            # All other middle lines - add comma and newline\n",
    "            gifts += gift + \",\\n\"\n",
    "    \n",
    "    # Step 3: Put it all together and return\n",
    "    return intro + \"\\n\" + gifts"
   ]
  },
  {
   "cell_type": "markdown",
   "id": "c61e66cc",
   "metadata": {},
   "source": [
    "## Test your function"
   ]
  },
  {
   "cell_type": "code",
   "execution_count": 434,
   "id": "71be2f6a",
   "metadata": {},
   "outputs": [
    {
     "name": "stdout",
     "output_type": "stream",
     "text": [
      "On the second day of Christmas, my true love gave to me:\n",
      "two turtle doves and\n",
      "a partridge in a pear tree.\n"
     ]
    }
   ],
   "source": [
    "print(sing_day(xmas, 2, \"Full.Phrase\"))"
   ]
  },
  {
   "cell_type": "code",
   "execution_count": 435,
   "id": "5d82d5d3",
   "metadata": {},
   "outputs": [
    {
     "name": "stdout",
     "output_type": "stream",
     "text": [
      "On the third day of Christmas, my true love gave to me:\n",
      "three french hens,\n",
      "two turtle doves and\n",
      "a partridge in a pear tree.\n"
     ]
    }
   ],
   "source": [
    "print(sing_day(xmas, 3, \"Full.Phrase\"))"
   ]
  },
  {
   "cell_type": "code",
   "execution_count": 436,
   "id": "379ade03",
   "metadata": {},
   "outputs": [
    {
     "name": "stdout",
     "output_type": "stream",
     "text": [
      "On the tenth day of Christmas, my true love gave to me:\n",
      "ten lords a-leaping,\n",
      "nine ladies dancing,\n",
      "eight maids a-milking,\n",
      "seven swans a-swimming,\n",
      "six geese a-laying,\n",
      "five golden rings,\n",
      "four calling birds,\n",
      "three french hens,\n",
      "two turtle doves and\n",
      "a partridge in a pear tree.\n"
     ]
    }
   ],
   "source": [
    "print(sing_day(xmas, 10, \"Full.Phrase\"))"
   ]
  },
  {
   "cell_type": "code",
   "execution_count": 437,
   "id": "6cd98146",
   "metadata": {},
   "outputs": [
    {
     "name": "stdout",
     "output_type": "stream",
     "text": [
      "On the twelfth day of Christmas, my true love gave to me:\n",
      "twelve drummers drumming,\n",
      "eleven pipers piping,\n",
      "ten lords a-leaping,\n",
      "nine ladies dancing,\n",
      "eight maids a-milking,\n",
      "seven swans a-swimming,\n",
      "six geese a-laying,\n",
      "five golden rings,\n",
      "four calling birds,\n",
      "three french hens,\n",
      "two turtle doves and\n",
      "a partridge in a pear tree.\n"
     ]
    }
   ],
   "source": [
    "print(sing_day(xmas, 12, \"Full.Phrase\"))"
   ]
  },
  {
   "cell_type": "markdown",
   "id": "88a7adbd",
   "metadata": {},
   "source": [
    "## Use Your Functions!"
   ]
  },
  {
   "cell_type": "code",
   "execution_count": 438,
   "id": "461f2a3e",
   "metadata": {},
   "outputs": [],
   "source": [
    "xmas2 = pd.read_csv(\"https://www.dropbox.com/scl/fi/p9x9k8xwuzs9rhp582vfy/xmas_2.csv?rlkey=kvc3j3lmyn4opcidsrhcmrof1&dl=1\")"
   ]
  },
  {
   "cell_type": "code",
   "execution_count": 439,
   "id": "fe859def",
   "metadata": {},
   "outputs": [
    {
     "name": "stdout",
     "output_type": "stream",
     "text": [
      "Index(['Day', 'Day.in.Words', 'Gift.Item', 'Verb', 'Adjective', 'Location'], dtype='object')\n"
     ]
    }
   ],
   "source": [
    "print(xmas2.columns)"
   ]
  },
  {
   "cell_type": "code",
   "execution_count": 440,
   "id": "e0b8ea63",
   "metadata": {},
   "outputs": [
    {
     "name": "stdout",
     "output_type": "stream",
     "text": [
      "    Day Day.in.Words Gift.Item         Verb Adjective       Location\n",
      "0     1        first     email          NaN       NaN  from Cal Poly\n",
      "1     2       second     point          NaN      meal            NaN\n",
      "2     3        third       pen          NaN      lost            NaN\n",
      "3     4       fourth    review          NaN    course            NaN\n",
      "4     5        fifth      exam          NaN  practice            NaN\n",
      "5     6        sixth    grader      grading       NaN            NaN\n",
      "6     7      seventh    senior    stressing       NaN            NaN\n",
      "7     8       eighth       mom    a-calling       NaN            NaN\n",
      "8     9        ninth     party      bumping       NaN            NaN\n",
      "9    10        tenth      load   of laundry       NaN            NaN\n",
      "10   11     eleventh    friend  goodbye-ing       NaN            NaN\n",
      "11   12      twelfth      hour     sleeping       NaN            NaN\n"
     ]
    }
   ],
   "source": [
    "print(xmas2)"
   ]
  },
  {
   "cell_type": "code",
   "execution_count": 441,
   "id": "ba08efa5",
   "metadata": {},
   "outputs": [],
   "source": [
    "#| code-fold: false\n",
    "\n",
    "# Create dictionary outside the function\n",
    "day_number_words = {\n",
    "    1: \"one\", 2: \"two\", 3: \"three\", 4: \"four\", \n",
    "    5: \"five\", 6: \"six\", 7: \"seven\", 8: \"eight\", \n",
    "    9: \"nine\", 10: \"ten\", 11: \"eleven\", 12: \"twelve\"\n",
    "}\n",
    "\n",
    "# Create the Num.Word column using .map()\n",
    "xmas2[\"Num.Word\"] = xmas2[\"Day\"].map(day_number_words)\n",
    "\n",
    "# Use the function to make a new column of the `xmas2` column called `Full.Phrase` containing the sentences for the new gift on that day.\n",
    "xmas2['Full.Phrase'] = xmas2.apply(lambda x: make_phrase(x['Day'], \n",
    "                                                        x['Num.Word'], \n",
    "                                                        x['Gift.Item'], \n",
    "                                                        x['Verb'], \n",
    "                                                        x['Adjective'], \n",
    "                                                        x['Location']), axis=1)"
   ]
  },
  {
   "cell_type": "code",
   "execution_count": 442,
   "id": "9ea4e6ed",
   "metadata": {},
   "outputs": [
    {
     "name": "stdout",
     "output_type": "stream",
     "text": [
      "0         an email from Cal Poly\n",
      "1                two meal points\n",
      "2                three lost pens\n",
      "3            four course reviews\n",
      "4            five practice exams\n",
      "5            six graders grading\n",
      "6        seven seniors stressing\n",
      "7           eight moms a-calling\n",
      "8           nine parties bumping\n",
      "9           ten loads of laundry\n",
      "10    eleven friends goodbye-ing\n",
      "11         twelve hours sleeping\n",
      "Name: Full.Phrase, dtype: object\n"
     ]
    }
   ],
   "source": [
    "print(xmas2[\"Full.Phrase\"])"
   ]
  },
  {
   "cell_type": "code",
   "execution_count": 443,
   "id": "bd7809ea",
   "metadata": {},
   "outputs": [
    {
     "name": "stdout",
     "output_type": "stream",
     "text": [
      "The 12 Days of Christmas\n",
      "\n",
      "On the first day of Christmas, my true love gave to me:\n",
      "a partridge in a pear tree.\n",
      "\n",
      "On the second day of Christmas, my true love gave to me:\n",
      "two turtle doves and\n",
      "a partridge in a pear tree.\n",
      "\n",
      "On the third day of Christmas, my true love gave to me:\n",
      "three french hens,\n",
      "two turtle doves and\n",
      "a partridge in a pear tree.\n",
      "\n",
      "On the fourth day of Christmas, my true love gave to me:\n",
      "four calling birds,\n",
      "three french hens,\n",
      "two turtle doves and\n",
      "a partridge in a pear tree.\n",
      "\n",
      "On the fifth day of Christmas, my true love gave to me:\n",
      "five golden rings,\n",
      "four calling birds,\n",
      "three french hens,\n",
      "two turtle doves and\n",
      "a partridge in a pear tree.\n",
      "\n",
      "On the sixth day of Christmas, my true love gave to me:\n",
      "six geese a-laying,\n",
      "five golden rings,\n",
      "four calling birds,\n",
      "three french hens,\n",
      "two turtle doves and\n",
      "a partridge in a pear tree.\n",
      "\n",
      "On the seventh day of Christmas, my true love gave to me:\n",
      "seven swans a-swimming,\n",
      "six geese a-laying,\n",
      "five golden rings,\n",
      "four calling birds,\n",
      "three french hens,\n",
      "two turtle doves and\n",
      "a partridge in a pear tree.\n",
      "\n",
      "On the eighth day of Christmas, my true love gave to me:\n",
      "eight maids a-milking,\n",
      "seven swans a-swimming,\n",
      "six geese a-laying,\n",
      "five golden rings,\n",
      "four calling birds,\n",
      "three french hens,\n",
      "two turtle doves and\n",
      "a partridge in a pear tree.\n",
      "\n",
      "On the ninth day of Christmas, my true love gave to me:\n",
      "nine ladies dancing,\n",
      "eight maids a-milking,\n",
      "seven swans a-swimming,\n",
      "six geese a-laying,\n",
      "five golden rings,\n",
      "four calling birds,\n",
      "three french hens,\n",
      "two turtle doves and\n",
      "a partridge in a pear tree.\n",
      "\n",
      "On the tenth day of Christmas, my true love gave to me:\n",
      "ten lords a-leaping,\n",
      "nine ladies dancing,\n",
      "eight maids a-milking,\n",
      "seven swans a-swimming,\n",
      "six geese a-laying,\n",
      "five golden rings,\n",
      "four calling birds,\n",
      "three french hens,\n",
      "two turtle doves and\n",
      "a partridge in a pear tree.\n",
      "\n",
      "On the eleventh day of Christmas, my true love gave to me:\n",
      "eleven pipers piping,\n",
      "ten lords a-leaping,\n",
      "nine ladies dancing,\n",
      "eight maids a-milking,\n",
      "seven swans a-swimming,\n",
      "six geese a-laying,\n",
      "five golden rings,\n",
      "four calling birds,\n",
      "three french hens,\n",
      "two turtle doves and\n",
      "a partridge in a pear tree.\n",
      "\n",
      "On the twelfth day of Christmas, my true love gave to me:\n",
      "twelve drummers drumming,\n",
      "eleven pipers piping,\n",
      "ten lords a-leaping,\n",
      "nine ladies dancing,\n",
      "eight maids a-milking,\n",
      "seven swans a-swimming,\n",
      "six geese a-laying,\n",
      "five golden rings,\n",
      "four calling birds,\n",
      "three french hens,\n",
      "two turtle doves and\n",
      "a partridge in a pear tree.\n"
     ]
    }
   ],
   "source": [
    "# Original 12 Days of Christmas song\n",
    "print(\"The 12 Days of Christmas\\n\")\n",
    "sing_full_song(xmas, \"Full.Phrase\")"
   ]
  },
  {
   "cell_type": "code",
   "execution_count": 444,
   "id": "ae692f8f",
   "metadata": {},
   "outputs": [
    {
     "name": "stdout",
     "output_type": "stream",
     "text": [
      "The 12 Days of Christmas\n",
      "\n",
      "On the first day of Christmas, my true love gave to me:\n",
      "an email from Cal Poly.\n",
      "\n",
      "On the second day of Christmas, my true love gave to me:\n",
      "two meal points and\n",
      "an email from Cal Poly.\n",
      "\n",
      "On the third day of Christmas, my true love gave to me:\n",
      "three lost pens,\n",
      "two meal points and\n",
      "an email from Cal Poly.\n",
      "\n",
      "On the fourth day of Christmas, my true love gave to me:\n",
      "four course reviews,\n",
      "three lost pens,\n",
      "two meal points and\n",
      "an email from Cal Poly.\n",
      "\n",
      "On the fifth day of Christmas, my true love gave to me:\n",
      "five practice exams,\n",
      "four course reviews,\n",
      "three lost pens,\n",
      "two meal points and\n",
      "an email from Cal Poly.\n",
      "\n",
      "On the sixth day of Christmas, my true love gave to me:\n",
      "six graders grading,\n",
      "five practice exams,\n",
      "four course reviews,\n",
      "three lost pens,\n",
      "two meal points and\n",
      "an email from Cal Poly.\n",
      "\n",
      "On the seventh day of Christmas, my true love gave to me:\n",
      "seven seniors stressing,\n",
      "six graders grading,\n",
      "five practice exams,\n",
      "four course reviews,\n",
      "three lost pens,\n",
      "two meal points and\n",
      "an email from Cal Poly.\n",
      "\n",
      "On the eighth day of Christmas, my true love gave to me:\n",
      "eight moms a-calling,\n",
      "seven seniors stressing,\n",
      "six graders grading,\n",
      "five practice exams,\n",
      "four course reviews,\n",
      "three lost pens,\n",
      "two meal points and\n",
      "an email from Cal Poly.\n",
      "\n",
      "On the ninth day of Christmas, my true love gave to me:\n",
      "nine parties bumping,\n",
      "eight moms a-calling,\n",
      "seven seniors stressing,\n",
      "six graders grading,\n",
      "five practice exams,\n",
      "four course reviews,\n",
      "three lost pens,\n",
      "two meal points and\n",
      "an email from Cal Poly.\n",
      "\n",
      "On the tenth day of Christmas, my true love gave to me:\n",
      "ten loads of laundry,\n",
      "nine parties bumping,\n",
      "eight moms a-calling,\n",
      "seven seniors stressing,\n",
      "six graders grading,\n",
      "five practice exams,\n",
      "four course reviews,\n",
      "three lost pens,\n",
      "two meal points and\n",
      "an email from Cal Poly.\n",
      "\n",
      "On the eleventh day of Christmas, my true love gave to me:\n",
      "eleven friends goodbye-ing,\n",
      "ten loads of laundry,\n",
      "nine parties bumping,\n",
      "eight moms a-calling,\n",
      "seven seniors stressing,\n",
      "six graders grading,\n",
      "five practice exams,\n",
      "four course reviews,\n",
      "three lost pens,\n",
      "two meal points and\n",
      "an email from Cal Poly.\n",
      "\n",
      "On the twelfth day of Christmas, my true love gave to me:\n",
      "twelve hours sleeping,\n",
      "eleven friends goodbye-ing,\n",
      "ten loads of laundry,\n",
      "nine parties bumping,\n",
      "eight moms a-calling,\n",
      "seven seniors stressing,\n",
      "six graders grading,\n",
      "five practice exams,\n",
      "four course reviews,\n",
      "three lost pens,\n",
      "two meal points and\n",
      "an email from Cal Poly.\n"
     ]
    }
   ],
   "source": [
    "# Christmas Version 2 - Cal Poly Surprise Song\n",
    "print(\"The 12 Days of Christmas\\n\")\n",
    "sing_full_song(xmas2, \"Full.Phrase\")"
   ]
  }
 ],
 "metadata": {
  "language_info": {
   "name": "python"
  }
 },
 "nbformat": 4,
 "nbformat_minor": 5
}
