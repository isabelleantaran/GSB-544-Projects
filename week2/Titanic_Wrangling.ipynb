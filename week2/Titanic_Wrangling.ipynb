{
  "cells": [
    {
      "cell_type": "raw",
      "metadata": {
        "vscode": {
          "languageId": "raw"
        }
      },
      "source": [
        "--- \n",
        "title: Titanic Wrangling\n",
        "author: Isabelle Antaran\n",
        "format:\n",
        "    html:\n",
        "        toc: true\n",
        "        code-fold: true\n",
        "        embed-resources: true\n",
        "theme: flatly\n",
        "---\n"
      ]
    },
    {
      "cell_type": "markdown",
      "metadata": {},
      "source": [
        "https://github.com/isabelleantaran/GSB-544-Projects/tree/main/week2"
      ]
    },
    {
      "cell_type": "markdown",
      "metadata": {},
      "source": [
        "# Titanic Wrangling\n",
        "\n",
        "In this practice activity you'll continue to work with the titanic dataset in ways that flex what you've learned about both data wrangling and data visualization."
      ]
    },
    {
      "cell_type": "code",
      "execution_count": 9,
      "metadata": {
        "id": "Nr6w8bVCf_NM"
      },
      "outputs": [],
      "source": [
        "import numpy as np \n",
        "import pandas as pd \n",
        "\n",
        "# Import the titanic dataset here\n",
        "\n",
        "data_dir = \"https://dlsun.github.io/pods/data/\"\n",
        "df_titanic = pd.read_csv(data_dir + \"titanic.csv\")\n",
        "\n",
        "\n"
      ]
    },
    {
      "cell_type": "code",
      "execution_count": 6,
      "metadata": {},
      "outputs": [
        {
          "data": {
            "text/html": [
              "<div>\n",
              "<style scoped>\n",
              "    .dataframe tbody tr th:only-of-type {\n",
              "        vertical-align: middle;\n",
              "    }\n",
              "\n",
              "    .dataframe tbody tr th {\n",
              "        vertical-align: top;\n",
              "    }\n",
              "\n",
              "    .dataframe thead th {\n",
              "        text-align: right;\n",
              "    }\n",
              "</style>\n",
              "<table border=\"1\" class=\"dataframe\">\n",
              "  <thead>\n",
              "    <tr style=\"text-align: right;\">\n",
              "      <th></th>\n",
              "      <th>name</th>\n",
              "      <th>gender</th>\n",
              "      <th>age</th>\n",
              "      <th>class</th>\n",
              "      <th>embarked</th>\n",
              "      <th>country</th>\n",
              "      <th>ticketno</th>\n",
              "      <th>fare</th>\n",
              "      <th>survived</th>\n",
              "    </tr>\n",
              "  </thead>\n",
              "  <tbody>\n",
              "    <tr>\n",
              "      <th>0</th>\n",
              "      <td>Abbing, Mr. Anthony</td>\n",
              "      <td>male</td>\n",
              "      <td>42.0</td>\n",
              "      <td>3rd</td>\n",
              "      <td>S</td>\n",
              "      <td>United States</td>\n",
              "      <td>5547.0</td>\n",
              "      <td>7.11</td>\n",
              "      <td>0</td>\n",
              "    </tr>\n",
              "    <tr>\n",
              "      <th>1</th>\n",
              "      <td>Abbott, Mr. Eugene Joseph</td>\n",
              "      <td>male</td>\n",
              "      <td>13.0</td>\n",
              "      <td>3rd</td>\n",
              "      <td>S</td>\n",
              "      <td>United States</td>\n",
              "      <td>2673.0</td>\n",
              "      <td>20.05</td>\n",
              "      <td>0</td>\n",
              "    </tr>\n",
              "    <tr>\n",
              "      <th>2</th>\n",
              "      <td>Abbott, Mr. Rossmore Edward</td>\n",
              "      <td>male</td>\n",
              "      <td>16.0</td>\n",
              "      <td>3rd</td>\n",
              "      <td>S</td>\n",
              "      <td>United States</td>\n",
              "      <td>2673.0</td>\n",
              "      <td>20.05</td>\n",
              "      <td>0</td>\n",
              "    </tr>\n",
              "    <tr>\n",
              "      <th>3</th>\n",
              "      <td>Abbott, Mrs. Rhoda Mary 'Rosa'</td>\n",
              "      <td>female</td>\n",
              "      <td>39.0</td>\n",
              "      <td>3rd</td>\n",
              "      <td>S</td>\n",
              "      <td>England</td>\n",
              "      <td>2673.0</td>\n",
              "      <td>20.05</td>\n",
              "      <td>1</td>\n",
              "    </tr>\n",
              "    <tr>\n",
              "      <th>4</th>\n",
              "      <td>Abelseth, Miss. Karen Marie</td>\n",
              "      <td>female</td>\n",
              "      <td>16.0</td>\n",
              "      <td>3rd</td>\n",
              "      <td>S</td>\n",
              "      <td>Norway</td>\n",
              "      <td>348125.0</td>\n",
              "      <td>7.13</td>\n",
              "      <td>1</td>\n",
              "    </tr>\n",
              "  </tbody>\n",
              "</table>\n",
              "</div>"
            ],
            "text/plain": [
              "                             name  gender   age  ...  ticketno   fare survived\n",
              "0             Abbing, Mr. Anthony    male  42.0  ...    5547.0   7.11        0\n",
              "1       Abbott, Mr. Eugene Joseph    male  13.0  ...    2673.0  20.05        0\n",
              "2     Abbott, Mr. Rossmore Edward    male  16.0  ...    2673.0  20.05        0\n",
              "3  Abbott, Mrs. Rhoda Mary 'Rosa'  female  39.0  ...    2673.0  20.05        1\n",
              "4     Abelseth, Miss. Karen Marie  female  16.0  ...  348125.0   7.13        1\n",
              "\n",
              "[5 rows x 9 columns]"
            ]
          },
          "execution_count": null,
          "metadata": {},
          "output_type": "execute_result"
        }
      ],
      "source": [
        "df_titanic.head()"
      ]
    },
    {
      "cell_type": "code",
      "execution_count": 7,
      "metadata": {},
      "outputs": [
        {
          "data": {
            "text/html": [
              "<div>\n",
              "<style scoped>\n",
              "    .dataframe tbody tr th:only-of-type {\n",
              "        vertical-align: middle;\n",
              "    }\n",
              "\n",
              "    .dataframe tbody tr th {\n",
              "        vertical-align: top;\n",
              "    }\n",
              "\n",
              "    .dataframe thead th {\n",
              "        text-align: right;\n",
              "    }\n",
              "</style>\n",
              "<table border=\"1\" class=\"dataframe\">\n",
              "  <thead>\n",
              "    <tr style=\"text-align: right;\">\n",
              "      <th></th>\n",
              "      <th>age</th>\n",
              "      <th>ticketno</th>\n",
              "      <th>fare</th>\n",
              "      <th>survived</th>\n",
              "    </tr>\n",
              "  </thead>\n",
              "  <tbody>\n",
              "    <tr>\n",
              "      <th>count</th>\n",
              "      <td>2205.000000</td>\n",
              "      <td>1.316000e+03</td>\n",
              "      <td>1291.000000</td>\n",
              "      <td>2207.000000</td>\n",
              "    </tr>\n",
              "    <tr>\n",
              "      <th>mean</th>\n",
              "      <td>30.436735</td>\n",
              "      <td>2.842157e+05</td>\n",
              "      <td>33.404760</td>\n",
              "      <td>0.322157</td>\n",
              "    </tr>\n",
              "    <tr>\n",
              "      <th>std</th>\n",
              "      <td>12.159677</td>\n",
              "      <td>6.334726e+05</td>\n",
              "      <td>52.227592</td>\n",
              "      <td>0.467409</td>\n",
              "    </tr>\n",
              "    <tr>\n",
              "      <th>min</th>\n",
              "      <td>0.166667</td>\n",
              "      <td>2.000000e+00</td>\n",
              "      <td>3.030500</td>\n",
              "      <td>0.000000</td>\n",
              "    </tr>\n",
              "    <tr>\n",
              "      <th>25%</th>\n",
              "      <td>22.000000</td>\n",
              "      <td>1.426225e+04</td>\n",
              "      <td>7.180600</td>\n",
              "      <td>0.000000</td>\n",
              "    </tr>\n",
              "    <tr>\n",
              "      <th>50%</th>\n",
              "      <td>29.000000</td>\n",
              "      <td>1.114265e+05</td>\n",
              "      <td>14.090200</td>\n",
              "      <td>0.000000</td>\n",
              "    </tr>\n",
              "    <tr>\n",
              "      <th>75%</th>\n",
              "      <td>38.000000</td>\n",
              "      <td>3.470770e+05</td>\n",
              "      <td>31.060750</td>\n",
              "      <td>1.000000</td>\n",
              "    </tr>\n",
              "    <tr>\n",
              "      <th>max</th>\n",
              "      <td>74.000000</td>\n",
              "      <td>3.101317e+06</td>\n",
              "      <td>512.060700</td>\n",
              "      <td>1.000000</td>\n",
              "    </tr>\n",
              "  </tbody>\n",
              "</table>\n",
              "</div>"
            ],
            "text/plain": [
              "               age      ticketno         fare     survived\n",
              "count  2205.000000  1.316000e+03  1291.000000  2207.000000\n",
              "mean     30.436735  2.842157e+05    33.404760     0.322157\n",
              "std      12.159677  6.334726e+05    52.227592     0.467409\n",
              "min       0.166667  2.000000e+00     3.030500     0.000000\n",
              "25%      22.000000  1.426225e+04     7.180600     0.000000\n",
              "50%      29.000000  1.114265e+05    14.090200     0.000000\n",
              "75%      38.000000  3.470770e+05    31.060750     1.000000\n",
              "max      74.000000  3.101317e+06   512.060700     1.000000"
            ]
          },
          "execution_count": null,
          "metadata": {},
          "output_type": "execute_result"
        }
      ],
      "source": [
        "df_titanic.describe()"
      ]
    },
    {
      "cell_type": "markdown",
      "metadata": {
        "id": "9UgZD6VFYa96"
      },
      "source": [
        "## 1. Filter the data to include passengers only. Calculate the joint distribution (cross-tab) between a passenger's class and where they embarked."
      ]
    },
    {
      "cell_type": "code",
      "execution_count": 11,
      "metadata": {
        "id": "TBthOzDLgBif"
      },
      "outputs": [
        {
          "name": "stdout",
          "output_type": "stream",
          "text": [
            "                                name  gender   age  ...  ticketno     fare survived\n",
            "0                Abbing, Mr. Anthony    male  42.0  ...    5547.0   7.1100        0\n",
            "1          Abbott, Mr. Eugene Joseph    male  13.0  ...    2673.0  20.0500        0\n",
            "2        Abbott, Mr. Rossmore Edward    male  16.0  ...    2673.0  20.0500        0\n",
            "3     Abbott, Mrs. Rhoda Mary 'Rosa'  female  39.0  ...    2673.0  20.0500        1\n",
            "4        Abelseth, Miss. Karen Marie  female  16.0  ...  348125.0   7.1300        1\n",
            "...                              ...     ...   ...  ...       ...      ...      ...\n",
            "1314          Yvois, Miss. Henriette  female  24.0  ...  248747.0  13.0000        0\n",
            "1315       Zakarian, Mr. Mapriededer    male  22.0  ...    2656.0   7.0406        0\n",
            "1316             Zakarian, Mr. Ortin    male  27.0  ...    2670.0   7.0406        0\n",
            "1317               Zenni, Mr. Philip    male  25.0  ...    2620.0   7.0406        1\n",
            "1318             Zimmermann, Mr. Leo    male  29.0  ...  315082.0   7.1706        0\n",
            "\n",
            "[1317 rows x 9 columns]\n",
            "embarked  B    C    Q    S\n",
            "class                     \n",
            "1st       3  143    3  175\n",
            "2nd       6   26    7  245\n",
            "3rd       0  102  113  494\n"
          ]
        }
      ],
      "source": [
        "passengers = df_titanic[\n",
        "    (df_titanic['class'] == '3rd') |\n",
        "    (df_titanic['class'] == '2nd') |\n",
        "    (df_titanic['class'] == '1st')\n",
        "]\n",
        "\n",
        "crosstab= pd.crosstab(passengers[\"class\"], passengers[\"embarked\"])\n",
        "\n",
        "print(passengers)\n",
        "print(crosstab)"
      ]
    },
    {
      "cell_type": "markdown",
      "metadata": {
        "id": "3CRaJLSyYm4d"
      },
      "source": [
        "## 2. Using the joint distribution that calculated above, calculate the following:\n",
        "\n",
        "* the conditional distribution of their class given where they embarked\n",
        "* the conditional distribution of where they embarked given their class\n",
        "\n",
        "Use the conditional distributions that you calculate to answer the following quesitons:\n",
        "\n",
        "* What proportion of 3rd class passengers embarked at Southampton?\n",
        "* What proportion of Southampton passengers were in 3rd class?"
      ]
    },
    {
      "cell_type": "code",
      "execution_count": 25,
      "metadata": {
        "id": "TfTGidLIv1k0"
      },
      "outputs": [
        {
          "name": "stdout",
          "output_type": "stream",
          "text": [
            "embarked         B         C         Q         S\n",
            "class                                           \n",
            "1st       0.333333  0.527675  0.024390  0.191466\n",
            "2nd       0.666667  0.095941  0.056911  0.268053\n",
            "3rd       0.000000  0.376384  0.918699  0.540481\n"
          ]
        }
      ],
      "source": [
        "# P(class | embarked)\n",
        "conditional_class_given_embark = pd.crosstab(\n",
        "    passengers[\"class\"],\n",
        "    passengers[\"embarked\"],\n",
        "    normalize= \"columns\"\n",
        ")\n",
        "\n",
        "print(conditional_class_given_embark)\n"
      ]
    },
    {
      "cell_type": "code",
      "execution_count": null,
      "metadata": {},
      "outputs": [
        {
          "name": "stdout",
          "output_type": "stream",
          "text": [
            "embarked         B         C         Q         S\n",
            "class                                           \n",
            "1st       0.009259  0.441358  0.009259  0.540123\n",
            "2nd       0.021127  0.091549  0.024648  0.862676\n",
            "3rd       0.000000  0.143865  0.159379  0.696756\n"
          ]
        }
      ],
      "source": [
        "# P(Embarked | Class)\n",
        "\n",
        "conditional_embark_given_class = pd.crosstab(\n",
        "    passengers[\"class\"],\n",
        "    passengers[\"embarked\"],\n",
        "    normalize= \"index\"\n",
        ")\n",
        "\n",
        "print(conditional_embark_given_class)"
      ]
    },
    {
      "cell_type": "markdown",
      "metadata": {},
      "source": [
        "The proportion of 3rd class passengers that embarked at South Hampton was 69.67%.\\\n",
        "The proportion of South Hampton passengers that were 3rd class was 54.01%"
      ]
    },
    {
      "cell_type": "markdown",
      "metadata": {
        "id": "pGUQeeh1ZRfz"
      },
      "source": [
        "## 3. Make a visualization showing the distribution of a passenger's class, given where they embarked.\n",
        "\n",
        "Discuss the pros and cons of using this visualization versus the distributions you calculated before, to answer the previous questions."
      ]
    },
    {
      "cell_type": "markdown",
      "metadata": {},
      "source": [
        "The barchat below provides a clear visualization showing the distribution of 1, 2, or 3 passengers at the embarkation ports.\\\n",
        "The advantage to this is that individuals can clearly see where the majority of people embarked and an approximate amount of them in specific class given where they embarked.\\\n",
        "However, the disadvantage of the visualization is that we cannot see the specific numerical values.\\\n",
        "While the barchart can provide simple visualizations, it represents proportions and not specific counts. This can lead to misinterpretations."
      ]
    },
    {
      "cell_type": "code",
      "execution_count": 28,
      "metadata": {
        "id": "PZ18WKJWA-xZ"
      },
      "outputs": [
        {
          "data": {
            "image/png": "[encoded data removed]"
          },
          "metadata": {},
          "output_type": "display_data"
        }
      ],
      "source": [
        "import plotnine as p9\n",
        "\n",
        "plotBar = (\n",
        "    p9.ggplot(data = passengers)\n",
        "    +p9.aes(x= \"embarked\", fill= \"class\")\n",
        "    +p9.geom_bar(position= \"fill\")\n",
        "    +p9.labs(\n",
        "        x= \"Embarkation Port\", \n",
        "        y= \"Proportion\",\n",
        "        title= \"Distribution of Passenger Class, Given Embarkation Port\"\n",
        "    )\n",
        "\n",
        "    +p9.scale_fill_discrete(name= \"Passenger Class\")\n",
        ")\n",
        "\n",
        "plotBar.show()"
      ]
    }
  ],
  "metadata": {
    "colab": {
      "provenance": []
    },
    "kernelspec": {
      "display_name": "Python 3",
      "name": "python3"
    },
    "language_info": {
      "name": "python"
    }
  },
  "nbformat": 4,
  "nbformat_minor": 0
}
