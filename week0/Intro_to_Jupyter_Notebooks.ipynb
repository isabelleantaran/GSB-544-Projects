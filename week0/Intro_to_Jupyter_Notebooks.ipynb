{
  "cells": [
    {
      "cell_type": "raw",
      "id": "7c0dd8d6",
      "metadata": {
        "id": "7c0dd8d6",
        "vscode": {
          "languageId": "raw"
        }
      },
      "source": [
        "--- \n",
        "title: Introduction to Jupyter Notebooks \n",
        "author: Isabelle Antaran\n",
        "format:\n",
        "    html:\n",
        "        toc: true\n",
        "        code-fold: true\n",
        "        embed-resources: true\n",
        "theme: flatly\n",
        "---"
      ]
    },
    {
      "cell_type": "markdown",
      "id": "KLiOv05-tcm7",
      "metadata": {
        "id": "KLiOv05-tcm7"
      },
      "source": [
        "This notebook is composed of many *chunks*, containing either python code or formatted text.  In this activity you will practice both.  Make sure to always run each code chunk once as you work past it.\n",
        "\n",
        "### Section 2\n",
        "\n",
        "#### Subsection"
      ]
    },
    {
      "cell_type": "markdown",
      "id": "kZcVtNnqtHRU",
      "metadata": {
        "id": "kZcVtNnqtHRU"
      },
      "source": [
        "*Get in a group of 3-4 people.  You should each fill out your own copy of this notebook.*"
      ]
    },
    {
      "cell_type": "code",
      "execution_count": 51,
      "id": "libraries-py",
      "metadata": {
        "id": "libraries-py"
      },
      "outputs": [],
      "source": [
        "#| label: libraries-py\n",
        "#| include: false\n",
        "import matplotlib.pyplot as plt\n"
      ]
    },
    {
      "cell_type": "markdown",
      "id": "89613630",
      "metadata": {
        "id": "89613630"
      },
      "source": [
        "1.  Write the names of your group members below, as a bullet point list.\n",
        "* Isabelle Antaran \n",
        "* Nav Anand \n",
        "* Lizeng Wang \n",
        "\n",
        "2.  Find something that all of you enjoy for fun. Insert a related picture or meme below.\n",
        "\n",
        "![Meme](https://www.meme-arsenal.com/memes/7a02c2e25beb0487ad798cd3ef6d5361.jpg)\n",
        "\n",
        "\n",
        "3.  Everyone decide your comfort level on a scale of 1-10 in python, and your favorite colors from [this](https://matplotlib.org/stable/gallery/color/named_colors.html) list.\n",
        "\n",
        "* Isabelle Antaran -> 4/10 -> purple\n",
        "* Nav Anand -> 9/10 -> blue\n",
        "* Lizeng Wang -> 2/10 -> green\n",
        "\n",
        "Edit the code below so that it has your names and corresponding comfort levels."
      ]
    },
    {
      "cell_type": "code",
      "execution_count": 52,
      "id": "group_info-py",
      "metadata": {
        "id": "group_info-py"
      },
      "outputs": [],
      "source": [
        "#| label: group_info-py\n",
        "group_data = {\n",
        "  'names': [\"Isabelle\", \"Nav\", \"Lizeng\"],\n",
        "  'colors': [\"purple\", \"blue\", \"green\"],\n",
        "  'comfort': [4, 9, 2]\n",
        "  }"
      ]
    },
    {
      "cell_type": "markdown",
      "id": "f8ac1475",
      "metadata": {
        "id": "f8ac1475"
      },
      "source": [
        "4.  Click \"Run\" on the code chunk below and see the plot that is produced.\n",
        "\n",
        "(Do not edit the code below!)"
      ]
    },
    {
      "cell_type": "code",
      "execution_count": 53,
      "id": "plot-py",
      "metadata": {
        "colab": {
          "base_uri": "https://localhost:8080/",
          "height": 430
        },
        "id": "plot-py",
        "outputId": "03ea4b83-9a0b-4032-ad6b-423f1b27293b"
      },
      "outputs": [
        {
          "data": {
            "image/png": "[encoded data removed]",
            "text/plain": [
              "<Figure size 640x480 with 1 Axes>"
            ]
          },
          "metadata": {},
          "output_type": "display_data"
        }
      ],
      "source": [
        "#| label: plot-py\n",
        "#| fig-cap: Our comfort levels with python\n",
        "\n",
        "plt.bar(x = group_data['names'], height = group_data['comfort'], color = group_data['colors'])\n",
        "plt.ylabel(\"Comfort with python\")\n",
        "plt.show()"
      ]
    }
  ],
  "metadata": {
    "colab": {
      "provenance": []
    },
    "kernelspec": {
      "display_name": "Python 3",
      "language": "python",
      "name": "python3"
    },
    "language_info": {
      "name": "python"
    }
  },
  "nbformat": 4,
  "nbformat_minor": 5
}
