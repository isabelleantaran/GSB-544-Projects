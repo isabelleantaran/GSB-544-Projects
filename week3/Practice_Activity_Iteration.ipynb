{
  "cells": [
    {
      "cell_type": "raw",
      "metadata": {
        "vscode": {
          "languageId": "raw"
        }
      },
      "source": [
        "--- \n",
        "title: Practice Activity Iteration\n",
        "author: Isabelle Antaran\n",
        "format:\n",
        "    html:\n",
        "        toc: true\n",
        "        code-fold: true\n",
        "        embed-resources: true\n",
        "theme: flatly\n",
        "---\n"
      ]
    },
    {
      "cell_type": "markdown",
      "metadata": {},
      "source": [
        "0. Load the `penguins` dataset from the `palmerpenguins` library, as well as any other libraries you need."
      ]
    },
    {
      "cell_type": "code",
      "execution_count": 2,
      "metadata": {},
      "outputs": [],
      "source": [
        "import pandas as pd\n",
        "import numpy as np\n",
        "from palmerpenguins import load_penguins"
      ]
    },
    {
      "cell_type": "code",
      "execution_count": 3,
      "metadata": {
        "id": "udKVPIJmpKG_"
      },
      "outputs": [
        {
          "name": "stdout",
          "output_type": "stream",
          "text": [
            "       species     island  bill_length_mm  ...  body_mass_g     sex  year\n",
            "0       Adelie  Torgersen            39.1  ...       3750.0    male  2007\n",
            "1       Adelie  Torgersen            39.5  ...       3800.0  female  2007\n",
            "2       Adelie  Torgersen            40.3  ...       3250.0  female  2007\n",
            "3       Adelie  Torgersen             NaN  ...          NaN     NaN  2007\n",
            "4       Adelie  Torgersen            36.7  ...       3450.0  female  2007\n",
            "..         ...        ...             ...  ...          ...     ...   ...\n",
            "339  Chinstrap      Dream            55.8  ...       4000.0    male  2009\n",
            "340  Chinstrap      Dream            43.5  ...       3400.0  female  2009\n",
            "341  Chinstrap      Dream            49.6  ...       3775.0    male  2009\n",
            "342  Chinstrap      Dream            50.8  ...       4100.0    male  2009\n",
            "343  Chinstrap      Dream            50.2  ...       3775.0  female  2009\n",
            "\n",
            "[344 rows x 8 columns]\n"
          ]
        }
      ],
      "source": [
        "penguins= load_penguins()\n",
        "print(penguins)"
      ]
    },
    {
      "cell_type": "markdown",
      "metadata": {},
      "source": [
        "1. Write a function that takes in information about a penguin, and returns one of the following definitions:\n",
        "\n",
        "*   \"Big Mouth Billy\": Male penguins with bill length times bill depth greater than 800.\n",
        "*   \"Dainty Daisy\": Female penguins with flipper length less than 5% of body mass.\n",
        "*   \"Average Adelie:\" Any Adelie penguins that do not fall into either category.\n",
        "*   \"Other\": Any penguins that do not fall into any of the categories."
      ]
    },
    {
      "cell_type": "code",
      "execution_count": 4,
      "metadata": {},
      "outputs": [],
      "source": [
        "def classify_penguin(row):\n",
        "    \"\"\"\n",
        "    Categorizes a penguin based on physical measurements.\n",
        "    \"\"\"\n",
        "    \n",
        "    # \"Big Mouth Billy\": Male penguins with bill length times bill depth greater than 800.\n",
        "    if (row[\"sex\"] == \"male\") and not pd.isnull(row[\"bill_length_mm\"]) and not pd.isnull(row[\"bill_depth_mm\"]):\n",
        "        if (row[\"bill_length_mm\"] * row[\"bill_depth_mm\"] > 800):\n",
        "            return \"Big Mouth Billy\"\n",
        "    \n",
        "    # \"Dainty Daisy\": Female penguins with flipper length less than 5% of body mass.\n",
        "    if (row[\"sex\"] == \"female\") and not pd.isnull(row[\"flipper_length_mm\"]) and not pd.isnull(row[\"body_mass_g\"]):\n",
        "        if (row[\"flipper_length_mm\"] < 0.05 * row[\"body_mass_g\"]):\n",
        "            return \"Dainty Daisy\"\n",
        "    \n",
        "    # \"Average Adelie:\" Any Adelie penguins that do not fall into either category.\n",
        "    if (row[\"species\"] == \"Adelie\"):\n",
        "        return \"Average Adelie\"\n",
        "    \n",
        "    # \"Other\": Any penguins that do not fall into any of the categories.\n",
        "    return \"Other\""
      ]
    },
    {
      "cell_type": "markdown",
      "metadata": {
        "id": "L3cOiPwJo_q5"
      },
      "source": [
        "2. Use an iterable function to create a new variable called `category_name` that adds these labels."
      ]
    },
    {
      "cell_type": "code",
      "execution_count": 9,
      "metadata": {
        "id": "AJk_DHBDpKvV"
      },
      "outputs": [],
      "source": [
        "# Apply classify_penguin to each row (axis=1) to categorize penguins\n",
        "penguins[\"category_name\"] = penguins.apply(classify_penguin, axis = 1)"
      ]
    },
    {
      "cell_type": "markdown",
      "metadata": {
        "id": "wzjur3hzpLxr"
      },
      "source": [
        "3. Run the following code to find the counts for each type."
      ]
    },
    {
      "cell_type": "code",
      "execution_count": 6,
      "metadata": {
        "id": "iDHDAKOXpPOm"
      },
      "outputs": [
        {
          "data": {
            "text/plain": [
              "category_name\n",
              "Average Adelie     127\n",
              "Other               84\n",
              "Big Mouth Billy     71\n",
              "Dainty Daisy        62\n",
              "Name: count, dtype: int64"
            ]
          },
          "execution_count": null,
          "metadata": {},
          "output_type": "execute_result"
        }
      ],
      "source": [
        "penguins.value_counts(\"category_name\")"
      ]
    }
  ],
  "metadata": {
    "colab": {
      "provenance": []
    },
    "kernelspec": {
      "display_name": "Python 3",
      "name": "python3"
    },
    "language_info": {
      "name": "python"
    }
  },
  "nbformat": 4,
  "nbformat_minor": 0
}
