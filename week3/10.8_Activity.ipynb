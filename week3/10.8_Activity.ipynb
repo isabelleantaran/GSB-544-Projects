{
 "cells": [
  {
   "cell_type": "code",
   "execution_count": 1,
   "id": "f9a843a3",
   "metadata": {},
   "outputs": [
    {
     "ename": "TypeError",
     "evalue": "list expected at most 1 argument, got 2",
     "output_type": "error",
     "traceback": [
      "\u001b[1;31m---------------------------------------------------------------------------\u001b[0m\n",
      "\u001b[1;31mTypeError\u001b[0m                                 Traceback (most recent call last)\n",
      "Cell \u001b[1;32mIn[1], line 1\u001b[0m\n",
      "\u001b[1;32m----> 1\u001b[0m \u001b[38;5;28;43mlist\u001b[39;49m\u001b[43m(\u001b[49m\u001b[38;5;28;43mrange\u001b[39;49m\u001b[43m,\u001b[49m\u001b[43m \u001b[49m\u001b[43m(\u001b[49m\u001b[38;5;241;43m100\u001b[39;49m\u001b[43m,\u001b[49m\u001b[43m \u001b[49m\u001b[38;5;241;43m97\u001b[39;49m\u001b[43m)\u001b[49m\u001b[43m)\u001b[49m\n",
      "\u001b[0;32m      2\u001b[0m []\n",
      "\n",
      "\u001b[1;31mTypeError\u001b[0m: list expected at most 1 argument, got 2"
     ]
    }
   ],
   "source": [
    "list(range, (100, 97))\n",
    "[]"
   ]
  },
  {
   "cell_type": "code",
   "execution_count": null,
   "id": "9092d305",
   "metadata": {},
   "outputs": [],
   "source": [
    "i= 100\n",
    "def sing_verse(i):\n",
    "    verse = str (i) + \"bottles of beer on the wall \\n\" + str(i) + \"bottles of beer\\n\" + \"take one down, pass it around\" + str(i-1)\n",
    "    return (verse)\n",
    "print(sing_verse())"
   ]
  },
  {
   "cell_type": "code",
   "execution_count": null,
   "id": "a0b2b2b6",
   "metadata": {},
   "outputs": [],
   "source": [
    "for i in range(100, 97, -1):\n",
    "    print(sing_verse(i))\n",
    "    "
   ]
  },
  {
   "cell_type": "code",
   "execution_count": null,
   "id": "41801748",
   "metadata": {},
   "outputs": [],
   "source": []
  }
 ],
 "metadata": {
  "language_info": {
   "name": "python"
  }
 },
 "nbformat": 4,
 "nbformat_minor": 5
}
