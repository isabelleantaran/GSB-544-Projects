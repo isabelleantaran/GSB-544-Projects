{
  "cells": [
    {
      "cell_type": "markdown",
      "metadata": {},
      "source": [
        "--- \n",
        "title: Practice 6.1\n",
        "author: Isabelle Antaran\n",
        "format:\n",
        "    html:\n",
        "        toc: true\n",
        "        code-fold: true\n",
        "        embed-resources: true\n",
        "theme: flatly\n",
        "---"
      ]
    },
    {
      "cell_type": "markdown",
      "metadata": {},
      "source": [
        "# Palmer Penguins Modeling\n",
        "\n",
        "Import the Palmer Penguins dataset and print out the first few rows.\n",
        "\n",
        "Suppose we want to predict `bill_depth_mm` using the other variables in the dataset.\n",
        "\n",
        "**Dummify** all variables that require this."
      ]
    },
    {
      "cell_type": "code",
      "execution_count": null,
      "metadata": {},
      "outputs": [],
      "source": [
        "!pip install palmerpenguins"
      ]
    },
    {
      "cell_type": "code",
      "execution_count": null,
      "metadata": {},
      "outputs": [],
      "source": [
        "import pandas as pd\n",
        "from sklearn.linear_model import LinearRegression\n",
        "from sklearn.model_selection import train_test_split\n",
        "from sklearn.metrics import mean_squared_error\n",
        "from plotnine import *\n",
        "from palmerpenguins import load_penguins\n",
        "from pandas import get_dummies"
      ]
    },
    {
      "cell_type": "code",
      "execution_count": null,
      "metadata": {
        "id": "N5lG475yllju"
      },
      "outputs": [
        {
          "data": {
            "text/html": [
              "<div>\n",
              "<style scoped>\n",
              "    .dataframe tbody tr th:only-of-type {\n",
              "        vertical-align: middle;\n",
              "    }\n",
              "\n",
              "    .dataframe tbody tr th {\n",
              "        vertical-align: top;\n",
              "    }\n",
              "\n",
              "    .dataframe thead th {\n",
              "        text-align: right;\n",
              "    }\n",
              "</style>\n",
              "<table border=\"1\" class=\"dataframe\">\n",
              "  <thead>\n",
              "    <tr style=\"text-align: right;\">\n",
              "      <th></th>\n",
              "      <th>bill_length_mm</th>\n",
              "      <th>bill_depth_mm</th>\n",
              "      <th>flipper_length_mm</th>\n",
              "      <th>body_mass_g</th>\n",
              "      <th>year</th>\n",
              "      <th>species_Adelie</th>\n",
              "      <th>species_Chinstrap</th>\n",
              "      <th>species_Gentoo</th>\n",
              "      <th>island_Biscoe</th>\n",
              "      <th>island_Dream</th>\n",
              "      <th>island_Torgersen</th>\n",
              "      <th>sex_female</th>\n",
              "      <th>sex_male</th>\n",
              "    </tr>\n",
              "  </thead>\n",
              "  <tbody>\n",
              "    <tr>\n",
              "      <th>0</th>\n",
              "      <td>39.1</td>\n",
              "      <td>18.7</td>\n",
              "      <td>181.0</td>\n",
              "      <td>3750.0</td>\n",
              "      <td>2007</td>\n",
              "      <td>True</td>\n",
              "      <td>False</td>\n",
              "      <td>False</td>\n",
              "      <td>False</td>\n",
              "      <td>False</td>\n",
              "      <td>True</td>\n",
              "      <td>False</td>\n",
              "      <td>True</td>\n",
              "    </tr>\n",
              "    <tr>\n",
              "      <th>1</th>\n",
              "      <td>39.5</td>\n",
              "      <td>17.4</td>\n",
              "      <td>186.0</td>\n",
              "      <td>3800.0</td>\n",
              "      <td>2007</td>\n",
              "      <td>True</td>\n",
              "      <td>False</td>\n",
              "      <td>False</td>\n",
              "      <td>False</td>\n",
              "      <td>False</td>\n",
              "      <td>True</td>\n",
              "      <td>True</td>\n",
              "      <td>False</td>\n",
              "    </tr>\n",
              "    <tr>\n",
              "      <th>2</th>\n",
              "      <td>40.3</td>\n",
              "      <td>18.0</td>\n",
              "      <td>195.0</td>\n",
              "      <td>3250.0</td>\n",
              "      <td>2007</td>\n",
              "      <td>True</td>\n",
              "      <td>False</td>\n",
              "      <td>False</td>\n",
              "      <td>False</td>\n",
              "      <td>False</td>\n",
              "      <td>True</td>\n",
              "      <td>True</td>\n",
              "      <td>False</td>\n",
              "    </tr>\n",
              "    <tr>\n",
              "      <th>4</th>\n",
              "      <td>36.7</td>\n",
              "      <td>19.3</td>\n",
              "      <td>193.0</td>\n",
              "      <td>3450.0</td>\n",
              "      <td>2007</td>\n",
              "      <td>True</td>\n",
              "      <td>False</td>\n",
              "      <td>False</td>\n",
              "      <td>False</td>\n",
              "      <td>False</td>\n",
              "      <td>True</td>\n",
              "      <td>True</td>\n",
              "      <td>False</td>\n",
              "    </tr>\n",
              "    <tr>\n",
              "      <th>5</th>\n",
              "      <td>39.3</td>\n",
              "      <td>20.6</td>\n",
              "      <td>190.0</td>\n",
              "      <td>3650.0</td>\n",
              "      <td>2007</td>\n",
              "      <td>True</td>\n",
              "      <td>False</td>\n",
              "      <td>False</td>\n",
              "      <td>False</td>\n",
              "      <td>False</td>\n",
              "      <td>True</td>\n",
              "      <td>False</td>\n",
              "      <td>True</td>\n",
              "    </tr>\n",
              "    <tr>\n",
              "      <th>...</th>\n",
              "      <td>...</td>\n",
              "      <td>...</td>\n",
              "      <td>...</td>\n",
              "      <td>...</td>\n",
              "      <td>...</td>\n",
              "      <td>...</td>\n",
              "      <td>...</td>\n",
              "      <td>...</td>\n",
              "      <td>...</td>\n",
              "      <td>...</td>\n",
              "      <td>...</td>\n",
              "      <td>...</td>\n",
              "      <td>...</td>\n",
              "    </tr>\n",
              "    <tr>\n",
              "      <th>339</th>\n",
              "      <td>55.8</td>\n",
              "      <td>19.8</td>\n",
              "      <td>207.0</td>\n",
              "      <td>4000.0</td>\n",
              "      <td>2009</td>\n",
              "      <td>False</td>\n",
              "      <td>True</td>\n",
              "      <td>False</td>\n",
              "      <td>False</td>\n",
              "      <td>True</td>\n",
              "      <td>False</td>\n",
              "      <td>False</td>\n",
              "      <td>True</td>\n",
              "    </tr>\n",
              "    <tr>\n",
              "      <th>340</th>\n",
              "      <td>43.5</td>\n",
              "      <td>18.1</td>\n",
              "      <td>202.0</td>\n",
              "      <td>3400.0</td>\n",
              "      <td>2009</td>\n",
              "      <td>False</td>\n",
              "      <td>True</td>\n",
              "      <td>False</td>\n",
              "      <td>False</td>\n",
              "      <td>True</td>\n",
              "      <td>False</td>\n",
              "      <td>True</td>\n",
              "      <td>False</td>\n",
              "    </tr>\n",
              "    <tr>\n",
              "      <th>341</th>\n",
              "      <td>49.6</td>\n",
              "      <td>18.2</td>\n",
              "      <td>193.0</td>\n",
              "      <td>3775.0</td>\n",
              "      <td>2009</td>\n",
              "      <td>False</td>\n",
              "      <td>True</td>\n",
              "      <td>False</td>\n",
              "      <td>False</td>\n",
              "      <td>True</td>\n",
              "      <td>False</td>\n",
              "      <td>False</td>\n",
              "      <td>True</td>\n",
              "    </tr>\n",
              "    <tr>\n",
              "      <th>342</th>\n",
              "      <td>50.8</td>\n",
              "      <td>19.0</td>\n",
              "      <td>210.0</td>\n",
              "      <td>4100.0</td>\n",
              "      <td>2009</td>\n",
              "      <td>False</td>\n",
              "      <td>True</td>\n",
              "      <td>False</td>\n",
              "      <td>False</td>\n",
              "      <td>True</td>\n",
              "      <td>False</td>\n",
              "      <td>False</td>\n",
              "      <td>True</td>\n",
              "    </tr>\n",
              "    <tr>\n",
              "      <th>343</th>\n",
              "      <td>50.2</td>\n",
              "      <td>18.7</td>\n",
              "      <td>198.0</td>\n",
              "      <td>3775.0</td>\n",
              "      <td>2009</td>\n",
              "      <td>False</td>\n",
              "      <td>True</td>\n",
              "      <td>False</td>\n",
              "      <td>False</td>\n",
              "      <td>True</td>\n",
              "      <td>False</td>\n",
              "      <td>True</td>\n",
              "      <td>False</td>\n",
              "    </tr>\n",
              "  </tbody>\n",
              "</table>\n",
              "<p>342 rows × 13 columns</p>\n",
              "</div>"
            ],
            "text/plain": [
              "     bill_length_mm  bill_depth_mm  ...  sex_female  sex_male\n",
              "0              39.1           18.7  ...       False      True\n",
              "1              39.5           17.4  ...        True     False\n",
              "2              40.3           18.0  ...        True     False\n",
              "4              36.7           19.3  ...        True     False\n",
              "5              39.3           20.6  ...       False      True\n",
              "..              ...            ...  ...         ...       ...\n",
              "339            55.8           19.8  ...       False      True\n",
              "340            43.5           18.1  ...        True     False\n",
              "341            49.6           18.2  ...       False      True\n",
              "342            50.8           19.0  ...       False      True\n",
              "343            50.2           18.7  ...        True     False\n",
              "\n",
              "[342 rows x 13 columns]"
            ]
          },
          "execution_count": null,
          "metadata": {},
          "output_type": "execute_result"
        }
      ],
      "source": [
        "# Create dummy variables\n",
        "penguin_data = load_penguins()\n",
        "encoded_data = get_dummies(penguin_data)\n",
        "cleaned_data = encoded_data.dropna()\n",
        "\n",
        "cleaned_data"
      ]
    },
    {
      "cell_type": "code",
      "execution_count": null,
      "metadata": {},
      "outputs": [],
      "source": [
        "#Create dummy variables \n",
        "from pandas import get_dummies\n",
        "df = get_dummies(penguins)\n",
        "df = df.dropna()"
      ]
    },
    {
      "cell_type": "markdown",
      "metadata": {
        "id": "TT1MVgaKm_gX"
      },
      "source": [
        "Let's use the other variables to predict `bill_depth_mm`. Prepare your data and fit the following models on a training dataset subset of the entire dataset:\n",
        "\n",
        "* Four different models, each containing a different set of predictor variables\n",
        "\n",
        "Create a plot like the right plot of Fig 1. in our `Model Validation` chapter with the training and test error plotted for each of your four models.\n",
        "\n",
        "Which of your models was best?"
      ]
    },
    {
      "cell_type": "code",
      "execution_count": null,
      "metadata": {
        "id": "M6f7JWZTm6tn"
      },
      "outputs": [
        {
          "name": "stdout",
          "output_type": "stream",
          "text": [
            "Model 1- Training Error: 0.6658\n",
            "Model 1- Testing Error: 0.7242\n"
          ]
        }
      ],
      "source": [
        "# Model 1: Basic predictors with species and sex\n",
        "# Predictors: bill_length_mm, species dummies, sex_female\n",
        "target_var = cleaned_data[\"bill_depth_mm\"]\n",
        "features_set1 = cleaned_data[[\"bill_length_mm\", \"species_Chinstrap\", \"species_Gentoo\", \"sex_female\"]]\n",
        "\n",
        "# Split data into training and testing sets\n",
        "X_train_m1, X_test_m1, y_train_m1, y_test_m1 = train_test_split(\n",
        "    features_set1, target_var, test_size=0.25, random_state=42)\n",
        "\n",
        "# Fit linear regression model\n",
        "model_1 = LinearRegression()\n",
        "model_1.fit(X_train_m1, y_train_m1)\n",
        "\n",
        "# Calculate predictions and errors\n",
        "train_predictions_m1 = model_1.predict(X_train_m1)\n",
        "test_predictions_m1 = model_1.predict(X_test_m1)\n",
        "\n",
        "train_error_m1 = mean_squared_error(y_train_m1, train_predictions_m1)\n",
        "test_error_m1 = mean_squared_error(y_test_m1, test_predictions_m1)\n",
        "\n",
        "print(f\"Model 1- Training Error: {train_error_m1:.4f}\")\n",
        "print(f\"Model 1- Testing Error: {test_error_m1:.4f}\")"
      ]
    },
    {
      "cell_type": "code",
      "execution_count": null,
      "metadata": {},
      "outputs": [
        {
          "name": "stdout",
          "output_type": "stream",
          "text": [
            "Model 2 - Training Error: 0.6646\n",
            "Model 2 - Testing Error: 0.7226\n"
          ]
        }
      ],
      "source": [
        "# Model 2: Adding island information\n",
        "# Predictors: Previous + island dummies\n",
        "\n",
        "target_var2 = cleaned_data[\"bill_depth_mm\"]\n",
        "features_set2 = cleaned_data[[\n",
        "    \"bill_length_mm\", \"species_Chinstrap\", \"species_Gentoo\", \n",
        "    \"sex_female\", \"island_Biscoe\", \"island_Dream\"\n",
        "]]\n",
        "\n",
        "X_train_m2, X_test_m2, y_train_m2, y_test_m2 = train_test_split(\n",
        "    features_set2, target_var2, test_size=0.25, random_state=42)\n",
        "\n",
        "model_2 = LinearRegression()\n",
        "model_2.fit(X_train_m2, y_train_m2)\n",
        "\n",
        "train_predictions_m2 = model_2.predict(X_train_m2)\n",
        "test_predictions_m2 = model_2.predict(X_test_m2)\n",
        "\n",
        "train_error_m2 = mean_squared_error(y_train_m2, train_predictions_m2)\n",
        "test_error_m2 = mean_squared_error(y_test_m2, test_predictions_m2)\n",
        "\n",
        "print(f\"Model 2 - Training Error: {train_error_m2:.4f}\")\n",
        "print(f\"Model 2 - Testing Error: {test_error_m2:.4f}\")"
      ]
    },
    {
      "cell_type": "code",
      "execution_count": null,
      "metadata": {},
      "outputs": [
        {
          "name": "stdout",
          "output_type": "stream",
          "text": [
            "Model 3 - Training Error: 0.9105\n",
            "Model 3 - Testing Error: 0.8650\n"
          ]
        }
      ],
      "source": [
        "# Model 3- bill_length_mm + species dummies\n",
        "target_var3 = cleaned_data[\"bill_depth_mm\"]\n",
        "features_set3 = cleaned_data[[\"bill_length_mm\", \"species_Chinstrap\", \"species_Gentoo\"]]\n",
        "\n",
        "X_train_m3, X_test_m3, y_train_m3, y_test_m3 = train_test_split(\n",
        "    features_set3, target_var3, test_size=0.25, random_state=42\n",
        ")\n",
        "\n",
        "model_3 = LinearRegression()\n",
        "model_3.fit(X_train_m3, y_train_m3)\n",
        "\n",
        "train_predictions_m3 = model_3.predict(X_train_m3)\n",
        "test_predictions_m3 = model_3.predict(X_test_m3)\n",
        "\n",
        "train_error_m3 = mean_squared_error(y_train_m3, train_predictions_m3)\n",
        "test_error_m3 = mean_squared_error(y_test_m3, test_predictions_m3)\n",
        "\n",
        "print(f\"Model 3 - Training Error: {train_error_m3:.4f}\")\n",
        "print(f\"Model 3 - Testing Error: {test_error_m3:.4f}\")\n"
      ]
    },
    {
      "cell_type": "code",
      "execution_count": null,
      "metadata": {},
      "outputs": [
        {
          "name": "stdout",
          "output_type": "stream",
          "text": [
            "Model 4 - Training Error: 0.6132\n",
            "Model 4 - Testing Error: 0.6449\n"
          ]
        }
      ],
      "source": [
        "# Model 4: all available numeric and categorical variables\n",
        "target_var4 = cleaned_data[\"bill_depth_mm\"]\n",
        "features_set4 = cleaned_data[[\n",
        "    \"bill_length_mm\", \"flipper_length_mm\", \"body_mass_g\",\n",
        "    \"species_Chinstrap\", \"species_Gentoo\", \"sex_female\",\n",
        "    \"island_Biscoe\", \"island_Dream\"\n",
        "]]\n",
        "\n",
        "X_train_m4, X_test_m4, y_train_m4, y_test_m4 = train_test_split(\n",
        "    features_set4, target_var4, test_size=0.25, random_state=42\n",
        ")\n",
        "\n",
        "model_4 = LinearRegression()\n",
        "model_4.fit(X_train_m4, y_train_m4)\n",
        "\n",
        "train_predictions_m4 = model_4.predict(X_train_m4)\n",
        "test_predictions_m4 = model_4.predict(X_test_m4)\n",
        "\n",
        "train_error_m4 = mean_squared_error(y_train_m4, train_predictions_m4)\n",
        "test_error_m4 = mean_squared_error(y_test_m4, test_predictions_m4)\n",
        "\n",
        "print(f\"Model 4 - Training Error: {train_error_m4:.4f}\")\n",
        "print(f\"Model 4 - Testing Error: {test_error_m4:.4f}\")"
      ]
    },
    {
      "cell_type": "code",
      "execution_count": null,
      "metadata": {},
      "outputs": [
        {
          "name": "stdout",
          "output_type": "stream",
          "text": [
            "Models Summary\n",
            "  model_name  predictor_count  test_mse  train_mse\n",
            "0    Model 1                4  0.724223   0.665786\n",
            "1    Model 2                6  0.722583   0.664579\n",
            "2    Model 3                3  0.864965   0.910486\n",
            "3    Model 4                8  0.644876   0.613166\n"
          ]
        }
      ],
      "source": [
        "# Compare Models\n",
        "comparison_results = pd.DataFrame({\n",
        "    \"model_name\": [\"Model 1\", \"Model 2\", \"Model 3\", \"Model 4\"],\n",
        "    \"predictor_count\": [4, 6, 3, 8],\n",
        "    \"test_mse\": [test_error_m1, test_error_m2, test_error_m3, test_error_m4],\n",
        "    \"train_mse\": [train_error_m1, train_error_m2, train_error_m3, train_error_m4]\n",
        "})\n",
        "\n",
        "print(f\"Models Summary\")\n",
        "print(comparison_results)"
      ]
    },
    {
      "cell_type": "code",
      "execution_count": null,
      "metadata": {},
      "outputs": [
        {
          "data": {
            "image/png": "[encoded data removed]",
            "text/plain": [
              "<Figure size 640x480 with 1 Axes>"
            ]
          },
          "metadata": {},
          "output_type": "display_data"
        }
      ],
      "source": [
        "#Visualization\n",
        "(ggplot(comparison_results, aes(x=\"predictor_count\"))\n",
        "    + geom_point(aes(y='train_mse', color='\"Training\"'), size=3)\n",
        "    + geom_point(aes(y='test_mse', color='\"Test\"'), size=3)\n",
        "    + geom_line(aes(y='train_mse', color='\"Training\"'))\n",
        "    + geom_line(aes(y='test_mse', color='\"Test\"'))\n",
        "    + labs(title=\"Model Performance Comparison: Training vs Test Error\",\n",
        "           x=\"Number of Predictor Variables\",\n",
        "           y=\"Mean Squared Error\")\n",
        "    + scale_color_manual(name=\"Dataset\", values={\"Training\": \"pink\", \"Test\": \"teal\"})\n",
        "    + theme_minimal()\n",
        ")"
      ]
    },
    {
      "cell_type": "code",
      "execution_count": null,
      "metadata": {},
      "outputs": [
        {
          "name": "stdout",
          "output_type": "stream",
          "text": [
            "BEST PERFORMING MODEL\n",
            "Model: Model 4\n",
            "Number of Predictors: 8\n",
            "Test MSE: 0.6449\n",
            "The best performing model is Model 4 with the lowest MSE.\n"
          ]
        }
      ],
      "source": [
        "best_model_idx = comparison_results['test_mse'].idxmin()\n",
        "best_model_info = comparison_results.loc[best_model_idx]\n",
        "\n",
        "print(\"BEST PERFORMING MODEL\")\n",
        "print(f\"Model: {best_model_info['model_name']}\")\n",
        "print(f\"Number of Predictors: {best_model_info['predictor_count']}\")\n",
        "print(f\"Test MSE: {best_model_info['test_mse']:.4f}\")\n",
        "\n",
        "print(\"The best performing model is Model 4 with the lowest MSE.\")"
      ]
    }
  ],
  "metadata": {
    "colab": {
      "provenance": []
    },
    "kernelspec": {
      "display_name": "Python 3",
      "name": "python3"
    },
    "language_info": {
      "name": "python"
    }
  },
  "nbformat": 4,
  "nbformat_minor": 0
}
